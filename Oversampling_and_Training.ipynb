{
  "nbformat": 4,
  "nbformat_minor": 0,
  "metadata": {
    "colab": {
      "name": "Oversampling and Training",
      "provenance": [],
      "collapsed_sections": [],
      "include_colab_link": true
    },
    "kernelspec": {
      "name": "python3",
      "display_name": "Python 3"
    },
    "language_info": {
      "name": "python"
    }
  },
  "cells": [
    {
      "cell_type": "markdown",
      "metadata": {
        "id": "view-in-github",
        "colab_type": "text"
      },
      "source": [
        "<a href=\"https://colab.research.google.com/github/PRANAVTURLAPATI/Data-Visualization-Projects-with-Python-Libraries/blob/main/Oversampling_and_Training.ipynb\" target=\"_parent\"><img src=\"https://colab.research.google.com/assets/colab-badge.svg\" alt=\"Open In Colab\"/></a>"
      ]
    },
    {
      "cell_type": "markdown",
      "metadata": {
        "id": "erYQyGJOT0Ya"
      },
      "source": [
        "## Instructions"
      ]
    },
    {
      "cell_type": "markdown",
      "metadata": {
        "id": "Y3MP63loT5wP"
      },
      "source": [
        "#### Goal of the Project\n",
        "\n",
        "This project is designed for you to practice and solve the activities that are based on the concepts covered in the following lessons:\n",
        "\n",
        " 1. Logistic Regression - Univariate Classification I\n",
        " \n",
        " 2. Logistic Regression - Decision Boundary\n",
        "\n",
        " 3. Logistic Regression - Multiclass Classification I\n",
        "\n",
        " 4. Logistic Regression - Multiclass Classification II\n",
        " \n",
        "\n",
        " "
      ]
    },
    {
      "cell_type": "markdown",
      "metadata": {
        "id": "XJEaBEFDGjoY"
      },
      "source": [
        "----"
      ]
    },
    {
      "cell_type": "markdown",
      "metadata": {
        "id": "Y8OJHhG4v5ej"
      },
      "source": [
        "### Problem Statement\n",
        "\n",
        "In this project, you are going to create your synthetic data for multiclass classification, synthesize the data for training, and create a Random Forest Classification model and a Logistic Regression model to classify the data using Machine Learning. Conclude the project by comparing the models and their results.\n"
      ]
    },
    {
      "cell_type": "markdown",
      "metadata": {
        "id": "cV6O1B17yAmf"
      },
      "source": [
        "---"
      ]
    },
    {
      "cell_type": "markdown",
      "metadata": {
        "id": "7QID5cPsyBMs"
      },
      "source": [
        "### List of Activities\n",
        "\n",
        "**Activity 1:** Create the Dummy Dataset\n",
        "\n",
        "**Activity 2:**  Dataset Inspection\n",
        "\n",
        "**Activity 3:**  Train-Test Split\n",
        "\n",
        "**Activity 4:** Apply SMOTE\n",
        "\n",
        "**Activity 5:** Random Forest Classification - Model Training\n",
        "\n",
        "**Activity 6:** Random Forest Classification - Model Prediction and Evaluation (Testing Set)\n",
        "\n",
        "**Activity 7:** Logistic Regression - Model Training\n",
        "\n",
        "**Activity 8:** Logistic Regression - Model Prediction and Evaluation (Testing Set)\n"
      ]
    },
    {
      "cell_type": "markdown",
      "metadata": {
        "id": "Gddd4cfWyEOa"
      },
      "source": [
        "---"
      ]
    },
    {
      "cell_type": "markdown",
      "metadata": {
        "id": "0vmj2glW8aKa"
      },
      "source": [
        "#### Activity 1: Create the Dummy Dataset\n",
        "\n",
        "In this activity, you have to create a dummy dataset for multiclass classification.\n",
        "\n",
        "The steps to be followed are as follows: \n",
        "\n",
        "**1.** Create a dummy dataset having two columns representing two independent variables and a third column representing the target.  \n",
        "\n",
        "  The number of records should be divided into 6 random groups like `[500, 2270, 1900, 41, 2121, 272]` such that the target columns has 6 different labels `[0, 1, 2, 3, 4, 5]`. \n",
        "\n",
        "\n",
        "  **Recall:**\n",
        "\n",
        "  To create a dummy data-frame, use the `make_blob()` function of the `sklearn.datasets` module which will return two arrays `feature_array` and the `target_array`. The syntax for the `make_blob()` function is as follows:\n",
        "\n",
        "  **Syntax:** `make_blobs(n_samples, centers, n_features, random_state, cluster_std)`\n",
        "\n"
      ]
    },
    {
      "cell_type": "code",
      "metadata": {
        "id": "Y3glyZckKD8N"
      },
      "source": [
        "# Instruction to remove warning messages\n",
        "import warnings\n",
        "warnings.filterwarnings(\"ignore\")"
      ],
      "execution_count": null,
      "outputs": []
    },
    {
      "cell_type": "code",
      "metadata": {
        "id": "eOGnVSR5i_yH"
      },
      "source": [
        "# Create two arrays using the 'make_blobs()' function and store them in the 'features_array' and 'target_array' variables.\n",
        "import numpy as np\n",
        "from sklearn.datasets import make_blobs\n",
        "features_array, target_array = make_blobs(n_samples = [500, 2270, 1900, 41, 2121, 272], n_features = 2, random_state = 42, cluster_std = 1)\n",
        "#make_blobs(n_samples = 1000, n_centers = 4,...) ----> 4 row groups of 250 rows each, (250, 250, 250, 250)"
      ],
      "execution_count": null,
      "outputs": []
    },
    {
      "cell_type": "markdown",
      "metadata": {
        "id": "t7zQGUC6wXub"
      },
      "source": [
        "**Hint:**\n",
        "\n",
        "In the `make_blobs()` function use `n_samples=[500, 2270, 1900, 41, 2121, 272]` and `center=None` for the division of target label into seven groups.\n",
        "\n",
        "----\n",
        "**2.** Print the object-type of the arrays created by the `make_blob()` function and also print the number of rows and columns in them:"
      ]
    },
    {
      "cell_type": "code",
      "metadata": {
        "id": "qhAqeMOZkIGP",
        "colab": {
          "base_uri": "https://localhost:8080/"
        },
        "outputId": "eb50d051-9c46-440d-a3a2-842700a4af47"
      },
      "source": [
        "# Find out the object-type of the arrays created by the 'make_blob()' function and the number of rows and columns in them.\n",
        "# Print the type of 'features_array' and 'target_array'\n",
        "print(type(features_array))\n",
        "# Print the number of rows and column of 'features_array'\n",
        "print(features_array.shape)\n",
        "# Print the number of rows and column of 'target_array'\n",
        "print(target_array.shape)"
      ],
      "execution_count": null,
      "outputs": [
        {
          "output_type": "stream",
          "name": "stdout",
          "text": [
            "<class 'numpy.ndarray'>\n",
            "(7104, 2)\n",
            "(7104,)\n"
          ]
        }
      ]
    },
    {
      "cell_type": "markdown",
      "metadata": {
        "id": "ZzLDfaaVxKNw"
      },
      "source": [
        "**Q:** How many rows are created in the feature and target columns?\n",
        "\n",
        "**A:** 7104, 2\n",
        "\n",
        "----\n",
        "**3.** Create a DataFrame from the two arrays using a Python dictionary.\n",
        "\n",
        "**Steps: (Learned in \"Logistic Regression - Decision Boundary\" lesson**)\n",
        "- Create a dummy dictionary.\n",
        "\n",
        "- Add the feature columns as keys `col 1`, `col 2`, and target column as the `target`.\n",
        "\n",
        "- Add the values from the feature and target columns one by one respectively in the dictionary using List Comprehension.\n",
        "\n",
        "- Convert the dictionary into a DataFrame\n",
        "\n",
        "- Print the first five rows of the DataFrame."
      ]
    },
    {
      "cell_type": "code",
      "metadata": {
        "id": "gWVs_3bikNw_",
        "colab": {
          "base_uri": "https://localhost:8080/"
        },
        "outputId": "27a67539-a9b4-4337-e115-3e70095f62e7"
      },
      "source": [
        "# Create a Pandas DataFrame containing the items from the 'features_array' and 'target_array' arrays.\n",
        "# Import the module\n",
        "import pandas as pd\n",
        "# Create a dummy dictionary\n",
        "df_dict = {'feature1' : [features_array[i][0] for i in range(features_array.shape[0])], 'feature2' : [features_array[i][1] for i in range(features_array.shape[0])], 'target_array' : target_array}\n",
        "# Convert the dictionary into DataFrame\n",
        "df = pd.DataFrame.from_dict(df_dict)\n",
        "# Print first five rows of the DataFrame\n",
        "print(df.head())"
      ],
      "execution_count": null,
      "outputs": [
        {
          "output_type": "stream",
          "name": "stdout",
          "text": [
            "   feature1  feature2  target_array\n",
            "0  4.110901  0.916612             1\n",
            "1 -6.456119 -8.484815             2\n",
            "2  4.823713  4.666203             1\n",
            "3 -6.440477 -6.046930             2\n",
            "4  1.395249  5.368955             4\n"
          ]
        }
      ]
    },
    {
      "cell_type": "markdown",
      "metadata": {
        "id": "nNssXaJIxs1z"
      },
      "source": [
        "**Hint:**\n",
        "\n",
        "Use function `from_dict()` to convert Python Dictionary to DataFrame.\n",
        "\n",
        "**Syntax:** `pd.DataFrame.from_dict(some_dictionary)`"
      ]
    },
    {
      "cell_type": "markdown",
      "metadata": {
        "id": "cFadXT1xZL8N"
      },
      "source": [
        "**After this activity, the DataFrame should be created with two independent features columns and one dependent target column.**"
      ]
    },
    {
      "cell_type": "markdown",
      "metadata": {
        "id": "zw9fzGnn0o8_"
      },
      "source": [
        "----"
      ]
    },
    {
      "cell_type": "markdown",
      "metadata": {
        "id": "sih3CWX-0Afx"
      },
      "source": [
        "#### Activity 2: Dataset Inspection\n",
        "\n",
        "In this activity, you have to look into the distribution of the labels in the `target` column of the DataFrame.\n",
        "\n",
        "**1.** Print the number of occurrences of each label in the `target` column:"
      ]
    },
    {
      "cell_type": "code",
      "metadata": {
        "id": "4X2ZC-kvk_as",
        "colab": {
          "base_uri": "https://localhost:8080/"
        },
        "outputId": "a19aa979-f77e-46c8-fcd4-36506572e33f"
      },
      "source": [
        "# Display the number of occurrences of each label in the 'target' column.\n",
        "df['target_array'].value_counts()"
      ],
      "execution_count": null,
      "outputs": [
        {
          "output_type": "execute_result",
          "data": {
            "text/plain": [
              "1    2270\n",
              "4    2121\n",
              "2    1900\n",
              "0     500\n",
              "5     272\n",
              "3      41\n",
              "Name: target_array, dtype: int64"
            ]
          },
          "metadata": {},
          "execution_count": 152
        }
      ]
    },
    {
      "cell_type": "markdown",
      "metadata": {
        "id": "pdM4v_ai0gcP"
      },
      "source": [
        "**2.** Print the percentage of the samples for each label in the `target` column:"
      ]
    },
    {
      "cell_type": "code",
      "metadata": {
        "id": "tHqjnoC4ntI1",
        "colab": {
          "base_uri": "https://localhost:8080/"
        },
        "outputId": "f46b1ca4-5d34-4a7f-e253-071f499304cf"
      },
      "source": [
        "# Get the percentage of count of each label samples in the dataset.\n",
        "df['target_array'].value_counts(normalize = True) * 100"
      ],
      "execution_count": null,
      "outputs": [
        {
          "output_type": "execute_result",
          "data": {
            "text/plain": [
              "1    31.953829\n",
              "4    29.856419\n",
              "2    26.745495\n",
              "0     7.038288\n",
              "5     3.828829\n",
              "3     0.577140\n",
              "Name: target_array, dtype: float64"
            ]
          },
          "metadata": {},
          "execution_count": 153
        }
      ]
    },
    {
      "cell_type": "markdown",
      "metadata": {
        "id": "lkIjwIRt0vU2"
      },
      "source": [
        "**Q:** How many unique labels are present in the DataFrame? What are they?\n",
        "\n",
        "**A:** 6 labels, 1, 4, 2, 0, 5, 3\n",
        "\n",
        "**Q:** Is the DataFrame balanced?\n",
        "\n",
        "**A:** no\n",
        "\n",
        "---\n",
        "\n"
      ]
    },
    {
      "cell_type": "markdown",
      "metadata": {
        "id": "efUDmkarmdK1"
      },
      "source": [
        "**3.**  Create a scatter plot between the columns `col 1` and `col 2` for all the labels to visualize the clusters of every label (or points):"
      ]
    },
    {
      "cell_type": "code",
      "metadata": {
        "id": "0oZ9l-qjm-Ci",
        "colab": {
          "base_uri": "https://localhost:8080/",
          "height": 442
        },
        "outputId": "37a6fe33-b634-4cec-9301-f475c9cf782a"
      },
      "source": [
        "# Create a scatter plot between 'col 1' and 'col 2' columns separately for all the labels in the same plot.\n",
        "# Import the module\n",
        "import matplotlib.pyplot as plt\n",
        "color_list = ['black', 'purple', 'green', 'blue', 'red', 'pink']\n",
        "# Define the size of the graph\n",
        "plt.figure(figsize = (21, 7))\n",
        "# Create a for loop executing for every unique label in the `target` column.\n",
        "for i in list(df['target_array'].value_counts().index):\n",
        "  # Plot the scatter plot for 'col 1' and 'col 2' where 'target ==i\"\n",
        "  plt.scatter(df.loc[df['target_array'] == i, 'feature1'], df.loc[df['target_array'] == i, 'feature2'], color = color_list[i], label = f\"label {i}\")\n",
        "# Plot the x and y lables\n",
        "plt.xlabel('feature1')\n",
        "plt.ylabel('feature2')\n",
        "# Display the legends and the graph\n",
        "plt.legend()\n",
        "plt.show()"
      ],
      "execution_count": null,
      "outputs": [
        {
          "output_type": "display_data",
          "data": {
            "image/png": "[encoded data removed]",
            "text/plain": [
              "<Figure size 1512x504 with 1 Axes>"
            ]
          },
          "metadata": {
            "needs_background": "light"
          }
        }
      ]
    },
    {
      "cell_type": "markdown",
      "metadata": {
        "id": "VFL1eOrt4QGX"
      },
      "source": [
        "**Hint:**\n",
        "Revise the lesson \"Logistic Regression - Decision Boundary\"."
      ]
    },
    {
      "cell_type": "markdown",
      "metadata": {
        "id": "EALXjtgQACls"
      },
      "source": [
        "**After this activity, the labels to be predicted that is the target variables and their distribution should be known.**"
      ]
    },
    {
      "cell_type": "markdown",
      "metadata": {
        "id": "Cz8UL0R646g7"
      },
      "source": [
        "----"
      ]
    },
    {
      "cell_type": "markdown",
      "metadata": {
        "id": "uDTmlU-Mz0fI"
      },
      "source": [
        "#### Activity 3: Train-Test Split\n",
        " \n",
        "We need to predict the value of the `target` variable, using other variables. Thus, the `target` is the dependent variable and other columns are the independent variables.\n",
        " \n",
        "**1.** Split the dataset into the training set and test set such that the training set contains 70% of the instances and the remaining instances will become the test set.\n",
        "\n",
        "**2.** Set `random_state = 42`."
      ]
    },
    {
      "cell_type": "code",
      "metadata": {
        "id": "u0yVYJbqmLAZ",
        "colab": {
          "base_uri": "https://localhost:8080/"
        },
        "outputId": "51d55d2b-147d-415d-8373-33db7185c232"
      },
      "source": [
        "# Import 'train_test_split' module\n",
        "from sklearn.model_selection import train_test_split\n",
        "# Create the features data frame holding all the columns except the last column \n",
        "# and print first five rows of this dataframe\n",
        "features_df = df.iloc[:, :-1]\n",
        "print(features_df.head())\n",
        "# Create the target series that holds last column 'target'\n",
        "# and print first five rows of this series\n",
        "target_df = df.iloc[:, -1]\n",
        "print(target_df.head())\n",
        "# Split the train and test sets using the 'train_test_split()' function.\n",
        "x_train, x_test, y_train, y_test = train_test_split(features_df, target_df, random_state = 42, test_size = 0.30)"
      ],
      "execution_count": null,
      "outputs": [
        {
          "output_type": "stream",
          "name": "stdout",
          "text": [
            "   feature1  feature2\n",
            "0  4.110901  0.916612\n",
            "1 -6.456119 -8.484815\n",
            "2  4.823713  4.666203\n",
            "3 -6.440477 -6.046930\n",
            "4  1.395249  5.368955\n",
            "0    1\n",
            "1    2\n",
            "2    1\n",
            "3    2\n",
            "4    4\n",
            "Name: target_array, dtype: int64\n"
          ]
        }
      ]
    },
    {
      "cell_type": "markdown",
      "metadata": {
        "id": "g_QtCtFp5alM"
      },
      "source": [
        "**3.** Print the number of rows and columns in the training and testing set:"
      ]
    },
    {
      "cell_type": "code",
      "metadata": {
        "id": "odYfuRCo9tTg",
        "colab": {
          "base_uri": "https://localhost:8080/"
        },
        "outputId": "b4a3da88-0601-47d1-d776-419d0fa9141e"
      },
      "source": [
        "# Print the shape of all the four variables i.e. 'X_train', 'X_test', 'y_train' and 'y_test'\n",
        "print(f\"Shape of x_train: {x_train.shape}\")\n",
        "print(f\"Shape of x_test: {x_test.shape}\")\n",
        "print(f\"Shape of y_train: {y_train.shape}\")\n",
        "print(f\"Shape of y_test: {y_test.shape}\")"
      ],
      "execution_count": null,
      "outputs": [
        {
          "output_type": "stream",
          "name": "stdout",
          "text": [
            "Shape of x_train: (4972, 2)\n",
            "Shape of x_test: (2132, 2)\n",
            "Shape of y_train: (4972,)\n",
            "Shape of y_test: (2132,)\n"
          ]
        }
      ]
    },
    {
      "cell_type": "markdown",
      "metadata": {
        "id": "Rpgp9jyYld-C"
      },
      "source": [
        "**After this activity, the features and target data should be split into training and testing data.**"
      ]
    },
    {
      "cell_type": "markdown",
      "metadata": {
        "id": "cHZ60-Bx5ipL"
      },
      "source": [
        "----"
      ]
    },
    {
      "cell_type": "markdown",
      "metadata": {
        "id": "seA1UUvyB-VF"
      },
      "source": [
        "#### Activity 4: Apply SMOTE\n",
        "\n",
        "In this activity, if the data is imbalanced, oversample the data for the minority classes in the following way:\n",
        "\n",
        "1. Create an object for the SMOTE using `SMOTE()` function.\n",
        "2. Synthesize the data for the minority class using `fit_sample()` function by passing the feature and target training variable. \n",
        "3. Save the output of the above step, artificial data, in the new feature and target training variables."
      ]
    },
    {
      "cell_type": "code",
      "metadata": {
        "id": "GA7KfEPIJd4O"
      },
      "source": [
        "# Write the code to apply oversample the data.\n",
        "# Import the 'SMOTE' module from the 'imblearn.over_sampling' library.\n",
        "from imblearn.over_sampling import SMOTE\n",
        "# Call the 'SMOTE()' function and store it in the a variable.\n",
        "Object = SMOTE(sampling_strategy = 'all', random_state = 42)\n",
        "# Call the 'fit_sample()' function.\n",
        "x_train_resampled, y_train_resampled = Object.fit_resample(x_train, y_train)"
      ],
      "execution_count": null,
      "outputs": []
    },
    {
      "cell_type": "markdown",
      "metadata": {
        "id": "B6HFgIxNSAfE"
      },
      "source": [
        "Print the number of rows and columns in the original and artificial feature and target data:"
      ]
    },
    {
      "cell_type": "code",
      "metadata": {
        "id": "M-brfeg7PjLk",
        "colab": {
          "base_uri": "https://localhost:8080/"
        },
        "outputId": "5650c4ac-56d6-491e-bbae-8a7311ef5148"
      },
      "source": [
        "# Print the number of rows and columns in the original and  resampled data.\n",
        "print(f\"Shape of x_train. (original feature): {x_train.shape}\")\n",
        "print(f\"Shape of x_train_resampled (artificial feature): {x_train_resampled.shape}\")\n",
        "print(f\"Shape of y_train (original target): {y_train.shape}\")\n",
        "print(f\"Shape of y_train_resampled (artificial target): {y_train_resampled.shape}\")"
      ],
      "execution_count": null,
      "outputs": [
        {
          "output_type": "stream",
          "name": "stdout",
          "text": [
            "Shape of x_train. (original feature): (4972, 2)\n",
            "Shape of x_train_resampled (artificial feature): (9510, 2)\n",
            "Shape of y_train (original target): (4972,)\n",
            "Shape of y_train_resampled (artificial target): (9510,)\n"
          ]
        }
      ]
    },
    {
      "cell_type": "markdown",
      "metadata": {
        "id": "fgD5usOkVdpm"
      },
      "source": [
        "**Q:** How many rows and columns are there in the original features data?\n",
        "\n",
        "**A:** 2345,2 and 2345,0 \n",
        "\n",
        "**Q:** How many rows and columns are there in the artificially generated features data?\n",
        "\n",
        "**A:** 4584,2 and 4584,0\n",
        "\n",
        "----\n",
        "Print the number of occurrences of labels in the artificially generated target data:"
      ]
    },
    {
      "cell_type": "code",
      "metadata": {
        "id": "G4ky_Xd-vkpg",
        "colab": {
          "base_uri": "https://localhost:8080/"
        },
        "outputId": "8b76a021-9ec9-4c7e-a7c8-9ecb7bd063d2"
      },
      "source": [
        "# Display the number of occurrences of each label in the artificially target data.\n",
        "y_train_resampled.value_counts(normalize = True)"
      ],
      "execution_count": null,
      "outputs": [
        {
          "output_type": "execute_result",
          "data": {
            "text/plain": [
              "5    0.166667\n",
              "4    0.166667\n",
              "3    0.166667\n",
              "2    0.166667\n",
              "1    0.166667\n",
              "0    0.166667\n",
              "Name: target_array, dtype: float64"
            ]
          },
          "metadata": {},
          "execution_count": 159
        }
      ]
    },
    {
      "cell_type": "markdown",
      "metadata": {
        "id": "SV0mQ2jev5Xt"
      },
      "source": [
        "**Q.** Are the number of occurrances equal for all the labels?\n",
        "\n",
        "**A** yes"
      ]
    },
    {
      "cell_type": "markdown",
      "metadata": {
        "id": "QZlfQWJOx0d-"
      },
      "source": [
        "**After this activity, the training feature and target data should have the synthetic data such that all the labels have equal occurrances and the data is balanced**"
      ]
    },
    {
      "cell_type": "markdown",
      "metadata": {
        "id": "_rMKZTGsJw4Y"
      },
      "source": [
        "----"
      ]
    },
    {
      "cell_type": "markdown",
      "metadata": {
        "id": "ud8dLfCGjh0E"
      },
      "source": [
        "#### Activity 5: Random Forest Classification - Model Training \n",
        "\n",
        "Implement Random Forest Classification using `sklearn` module in the following way:\n",
        "\n",
        "1. Deploy the model by importing the `RandomForestClassifier` class and create an object of this class.\n",
        "2. Call the `fit()` function using the Random Forest Classifier object and print score using the `score()` function using the object created.\n"
      ]
    },
    {
      "cell_type": "code",
      "metadata": {
        "id": "n4cMnv2jyQGz"
      },
      "source": [
        "# Import the required modules from the 'sklearn.ensemble' and 'sklearn.metrics' libraries\n",
        "from sklearn.ensemble import RandomForestClassifier\n",
        "# Train the Random Forest Classifier\n",
        "Object2 = RandomForestClassifier()\n",
        "Object2.fit(x_train, y_train)\n",
        "Object2.score(x_train, y_train)"
      ],
      "execution_count": null,
      "outputs": []
    },
    {
      "cell_type": "markdown",
      "metadata": {
        "id": "VgQ7Q43MY3et"
      },
      "source": [
        "**Q:** What is the accuracy score?\n",
        "\n",
        "**A:** 1.0\n",
        "\n",
        "**Q:** Is it 100%?\n",
        "\n",
        "**A:** yes"
      ]
    },
    {
      "cell_type": "markdown",
      "metadata": {
        "id": "OcZRYC6SY3ew"
      },
      "source": [
        "**After this activity, a Random Forest Classification model object should be trained for multiclass classification.**"
      ]
    },
    {
      "cell_type": "markdown",
      "metadata": {
        "id": "Qf86Whh3WF1H"
      },
      "source": [
        "---"
      ]
    },
    {
      "cell_type": "markdown",
      "metadata": {
        "id": "fvIZzRlGOm3x"
      },
      "source": [
        "#### Activity 6: Random Forest Classification - Model Prediction and Evaluation (Testing Set)\n",
        "\n",
        "**1.** Predict the values for the testing set by calling the `predict()` function on the Random Forest Classifier object. \n",
        "\n",
        "**2.** Print the unique labels predicted using Random Forest Regression on training features.\n",
        "\n",
        "**3.** Print the distribution of the labels predicted in the predicted target series for the testing features.\n"
      ]
    },
    {
      "cell_type": "code",
      "metadata": {
        "id": "JOpuHHmHo72S"
      },
      "source": [
        "# Make predictions using Random Forest Classifier model object\n",
        "# Make predictions on the test dataset by using the 'predict()' function.\n",
        "rf_y_predicted = pd.Series(Object2.predict(x_test))\n",
        "# Check the count of records classified under each label\n",
        "print(f\"count of records classified under each label {rf_y_predicted.value_counts()}\\n\")\n",
        "# Print the distribution labels in the predicted series for testing features\n",
        "print(f\"the distribution labels in the predicted series for testing features {rf_y_predicted.describe()}\\n\")\n",
        "# Print the unique labels in the predicted series for testing features\n",
        "print(f\"unique labels in the predicted series for testing features {rf_y_predicted.unique()}\")"
      ],
      "execution_count": null,
      "outputs": []
    },
    {
      "cell_type": "markdown",
      "metadata": {
        "id": "_OssmzZNo72b"
      },
      "source": [
        "**Q:** Are all the label values predicted for the testing features data?\n",
        "\n",
        "**A:** no\n",
        "$$ $$\n",
        "**Q:** Which labels are predicted and not predicted by the Random Forest Classification model?\n",
        "\n",
        "**A:** 1\n",
        "\n",
        "---\n",
        "**4.** Display the confusion matrix for the testing set:\n"
      ]
    },
    {
      "cell_type": "code",
      "metadata": {
        "id": "AcpsG8AJo72c"
      },
      "source": [
        "# Print the confusion matrix for the actual and predicted data of the test set (if required)\n",
        "from sklearn.metrics import confusion_matrix\n",
        "print(confusion_matrix(y_test, rf_y_predicted))"
      ],
      "execution_count": null,
      "outputs": []
    },
    {
      "cell_type": "markdown",
      "metadata": {
        "id": "ROhOznEio72d"
      },
      "source": [
        "**5.** Visualize the confusion matrix using the heatmap:"
      ]
    },
    {
      "cell_type": "code",
      "metadata": {
        "id": "j7dNQFilo72e"
      },
      "source": [
        "# Create the heatmap for the confusion matrix \n",
        "# import the module\n",
        "import seaborn as sns\n",
        "# Create a series of all unique labels in actual target data\n",
        "unique_series = pd.Series(df['target_array'].unique())\n",
        "# Create a Pandas DataFrame object for the confusion matrix created above labelled with the classes.\n",
        "confusion_matrix_df = pd.DataFrame(confusion_matrix(y_test, rf_y_predicted), columns = unique_series)\n",
        "print(f\"{confusion_matrix_df}\\n\")\n",
        "# Create a heatmap for the confusion matrix.\n",
        "plt.figure(figsize = (21, 7))\n",
        "sns.heatmap(confusion_matrix(y_test, rf_y_predicted), fmt = 'd')\n",
        "plt.show()"
      ],
      "execution_count": null,
      "outputs": []
    },
    {
      "cell_type": "markdown",
      "metadata": {
        "id": "FSBkZubMtXLH"
      },
      "source": [
        "**Note:** Use `fmt='d'` as one of the parameters in the `heatmap()` to display the values in plain notation."
      ]
    },
    {
      "cell_type": "markdown",
      "metadata": {
        "id": "wLAg3OaNo72f"
      },
      "source": [
        "**Q.** Explain the heat map output in short based on the number of positive and negative outcomes for each class?\n",
        "\n",
        "**A** \n",
        "\n",
        "---\n",
        "**6.** Display the classification report for the test set:"
      ]
    },
    {
      "cell_type": "code",
      "metadata": {
        "id": "Ck3kpuYNqHCE"
      },
      "source": [
        "# Print the classification report for the actual and predicted data of the testing set (if required)\n",
        "from sklearn.metrics import classification_report\n",
        "print(classification_report(y_test, rf_y_predicted))"
      ],
      "execution_count": null,
      "outputs": []
    },
    {
      "cell_type": "markdown",
      "metadata": {
        "id": "hmNiD8xMqODj"
      },
      "source": [
        "**Q** Which classes were identified correctly without any misclassification?\n",
        "\n",
        "**A** 0 and 2\n",
        "\n",
        "**Q** Which class has the lowest f1-score?\n",
        "\n",
        "**A** 3"
      ]
    },
    {
      "cell_type": "markdown",
      "metadata": {
        "id": "TEiZkstZrQvl"
      },
      "source": [
        "**After this activity, labels should be predicted for the target columns using the test features set and the Random Forest Classifier model should be evaluated for the same.**"
      ]
    },
    {
      "cell_type": "markdown",
      "metadata": {
        "id": "SPRjCD2RlKD5"
      },
      "source": [
        "---"
      ]
    },
    {
      "cell_type": "markdown",
      "metadata": {
        "id": "9hn9AfqoY7DE"
      },
      "source": [
        "#### Activity 7: Logistic Regression - Model Training \n",
        "\n",
        "Implement Logistic Regression Classification using `sklearn` module in the following way:\n",
        "\n",
        "1. Deploy the model by importing the `LogisticRegression` class and create an object of this class.\n",
        "2. Call the `fit()` function on the Logistic Regression object and print the score using the `score()` function.\n"
      ]
    },
    {
      "cell_type": "code",
      "metadata": {
        "id": "IskflWOh_RHE"
      },
      "source": [
        "# Build a logistic regression model using the 'sklearn' module.\n",
        "from sklearn.linear_model import LogisticRegression\n",
        "# 1. First, call the 'LogisticRegression' module and store it in 'lg_clg' variable.\n",
        "lg_clg = LogisticRegression()\n",
        "# 2. Call the 'fit()' function with 'X_train' and 'y_train' as inputs.\n",
        "lg_clg.fit(x_train, y_train)\n",
        "# 3. Call the 'score()' function with 'X_train' and 'y_train' as inputs to check the accuracy score of the model.\n",
        "lg_clg.score(x_train, y_train)"
      ],
      "execution_count": null,
      "outputs": []
    },
    {
      "cell_type": "markdown",
      "metadata": {
        "id": "CCkIHk8t6NDY"
      },
      "source": [
        "**Q:** What is the accuracy score?\n",
        "\n",
        "**A:** 0.9748592115848753\n",
        "\n",
        "**Q:** Is it 100%?\n",
        "\n",
        "**A:** No"
      ]
    },
    {
      "cell_type": "markdown",
      "metadata": {
        "id": "JlrL_FLjAUzx"
      },
      "source": [
        "**After this activity, a Logistic Regression model object should be trained for multiclass classification.**"
      ]
    },
    {
      "cell_type": "markdown",
      "metadata": {
        "id": "j5T8FUux6dgo"
      },
      "source": [
        "----"
      ]
    },
    {
      "cell_type": "markdown",
      "metadata": {
        "id": "JEd74tnB98wU"
      },
      "source": [
        "#### Activity 8: Logistic Regression - Model Prediction and Evaluation (Testing Set)\n",
        "\n",
        "**1.** Predict the values for the test set by calling the `predict()` function on the Logistic Regression object.\n",
        "\n",
        "**2.** Print the unique labels predicted using Logistic Regression on test features.\n",
        "\n",
        "**3.** Print the distribution of the labels predicted in the predicted target series for the test features.\n"
      ]
    },
    {
      "cell_type": "code",
      "metadata": {
        "id": "FlSKmfaDvDUU"
      },
      "source": [
        "# Predict the values of 'target' by the logistic regression model on the test set.\n",
        "# Predict the target for the test features data\n",
        "lg_clg_y_predicted = lg_clg.predict(x_test)\n",
        "# Convert the predicted array into series\n",
        "lg_clg_y_predicted_series = pd.Series(lg_clg_y_predicted)\n",
        "# Print the unique labels in the predicted series for test features\n",
        "print(lg_clg_y_predicted_series.unique())\n",
        "# Print the distribution labels in the predicted series for test features\n",
        "print(lg_clg_y_predicted_series.describe())"
      ],
      "execution_count": null,
      "outputs": []
    },
    {
      "cell_type": "markdown",
      "metadata": {
        "id": "xQE5DvUU-gvM"
      },
      "source": [
        "**Q:** Are all the labels predicted for the test features data?\n",
        "\n",
        "**A:** \n",
        "\n",
        "$$ $$\n",
        "**Q:** What are labels predicted and not predicted using Logistic Regression model object?\n",
        "\n",
        "**A:** \n",
        "\n",
        "---\n",
        "**4.** Display the confusion matrix for the test set:\n"
      ]
    },
    {
      "cell_type": "code",
      "metadata": {
        "id": "eV0xbGtNoY80"
      },
      "source": [
        "# Print the confusion matrix for the actual and predicted data of the test set (if required)\n",
        "print(confusion_matrix(y_test, lg_clg_y_predicted))"
      ],
      "execution_count": null,
      "outputs": []
    },
    {
      "cell_type": "markdown",
      "metadata": {
        "id": "x49qL_ZRLLhq"
      },
      "source": [
        "**5.** Visualize the confusion matrix using the heatmap:"
      ]
    },
    {
      "cell_type": "code",
      "metadata": {
        "id": "29G4tDxVLTGV"
      },
      "source": [
        "# Create the heatmap for the confusion matrix generated by Logistic Regression testing predictions\n",
        "# Create a Pandas DataFrame object for the confusion matrix created above labelled with the classes.\n",
        "confusion_matrix_df = pd.DataFrame(confusion_matrix(y_test, rf_y_predicted), columns = unique_series)\n",
        "print(f\"{confusion_matrix_df}\\n\")\n",
        "# Create a heatmap for the confusion matrix.\n",
        "plt.figure(figsize = (21, 7))\n",
        "sns.heatmap(confusion_matrix(y_test, lg_clg_y_predicted), fmt = 'd')\n",
        "plt.show()"
      ],
      "execution_count": null,
      "outputs": []
    },
    {
      "cell_type": "markdown",
      "metadata": {
        "id": "nzeGPULe-3Tn"
      },
      "source": [
        "**6.** Display the classification report for the test set:"
      ]
    },
    {
      "cell_type": "code",
      "metadata": {
        "id": "6d1cVFQ0osXX"
      },
      "source": [
        "# Print the classification report for the actual and predicted data of the testing set (if required)\n",
        "print(classification_report(y_test, lg_clg_y_predicted))"
      ],
      "execution_count": null,
      "outputs": []
    },
    {
      "cell_type": "markdown",
      "metadata": {
        "id": "Nxnv7aRA3C2c"
      },
      "source": [
        "**Q** Which classes were identified correctly without any misclassification?\n",
        "\n",
        "**A** \n",
        "\n",
        "**Q** Which class has the lowest f1-score?\n",
        "\n",
        "**A** "
      ]
    },
    {
      "cell_type": "markdown",
      "metadata": {
        "id": "E7TzNuyCA1Dp"
      },
      "source": [
        "**After this activity, labels should be predicted for the target columns using the test features set and the Logistic Regression model should be evaluated for the same.**"
      ]
    },
    {
      "cell_type": "markdown",
      "metadata": {
        "id": "_MjqVw93--Ir"
      },
      "source": [
        "---"
      ]
    },
    {
      "cell_type": "markdown",
      "metadata": {
        "id": "_Tw7uK1ndut5"
      },
      "source": [
        "**Write your interpretation of the results here.**\n",
        "\n",
        "- Interpretation 1: \n",
        "\n",
        "\n",
        "- Interpretation 2: "
      ]
    },
    {
      "cell_type": "markdown",
      "metadata": {
        "id": "iCJswJWAGnZN"
      },
      "source": [
        "---"
      ]
    }
  ]
}