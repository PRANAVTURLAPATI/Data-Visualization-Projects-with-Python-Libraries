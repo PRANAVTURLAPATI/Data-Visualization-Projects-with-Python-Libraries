{
  "nbformat": 4,
  "nbformat_minor": 0,
  "metadata": {
    "colab": {
      "name": "Project 10: Guess A Word - Strings, Tuples & Dictionaries",
      "provenance": [],
      "collapsed_sections": [],
      "include_colab_link": true
    },
    "kernelspec": {
      "name": "python3",
      "display_name": "Python 3"
    }
  },
  "cells": [
    {
      "cell_type": "markdown",
      "metadata": {
        "id": "view-in-github",
        "colab_type": "text"
      },
      "source": [
        "<a href=\"https://colab.research.google.com/github/sirb2/Data-Visualization-Projects-with-Python-Libraries/blob/main/Project_10_Guess_A_Word_Strings%2C_Tuples_%26_Dictionaries.ipynb\" target=\"_parent\"><img src=\"https://colab.research.google.com/assets/colab-badge.svg\" alt=\"Open In Colab\"/></a>"
      ]
    },
    {
      "cell_type": "markdown",
      "metadata": {
        "id": "UYmMpXkNw9I6"
      },
      "source": [
        "# Project 10: Guess A Word - Strings, Tuples & Dictionaries"
      ]
    },
    {
      "cell_type": "markdown",
      "metadata": {
        "id": "PaanjkTewd2U"
      },
      "source": [
        "---"
      ]
    },
    {
      "cell_type": "markdown",
      "metadata": {
        "id": "x9vfVAsbslya"
      },
      "source": [
        "### Context\n",
        "\n",
        "A spelling bee is a competition in which contestants are asked to spell a broad selection of words, usually with a varying degree of difficulty. To compete, contestants must memorize the spellings of words as written in dictionaries, and recite them accordingly. Click on the link provided below to watch a short video on spelling bee contest:\n",
        "\n",
        "https://www.youtube.com/watch?v=G_yW6j2gN1w\n",
        "\n",
        "\n",
        "Drawing inspiration from the spelling bee contest, you need to create a Python-based computer game prototype which allows a player to guess the correct word through observing the jumbled letters of a word."
      ]
    },
    {
      "cell_type": "markdown",
      "metadata": {
        "id": "G9pdov_M0nzo"
      },
      "source": [
        "---"
      ]
    },
    {
      "cell_type": "markdown",
      "metadata": {
        "id": "2i36Yv3-MPY5"
      },
      "source": [
        "### Problem Statement \n",
        "\n",
        "In this project, you have to write a computer program to create an interactive game application called **Guess A Word**. The game must have the following major components:\n",
        "\n",
        "1. A repository of English words, their parts of speech and their meanings.\n",
        "\n",
        "2. Another repository containing the player's name, the number of guesses made by them and the time taken (in seconds) to guess the words.\n",
        "\n",
        "3. A function to jumble the letters of the English words.\n",
        "\n",
        "4. A timer to calculate the total time taken by a player to guess the words.\n",
        "\n",
        "5. Display a word such that its letters are jumbled, its part of speech and its meaning. Then prompt the player to guess the word one-by-one.  \n",
        "\n",
        "6. Check whether the player had guessed the correct word.\n",
        "\n",
        "7. Keep a count of the player's correct guesses."
      ]
    },
    {
      "cell_type": "markdown",
      "metadata": {
        "id": "kRdxNrKrjtEH"
      },
      "source": [
        "---"
      ]
    },
    {
      "cell_type": "markdown",
      "metadata": {
        "id": "toeLx5LJpIV-"
      },
      "source": [
        "### Project Requirements\n",
        "\n",
        "1. Create the `my_words` tuple which should contain the following 10 words, their parts of speech and their meanings as shown in the image below.\n",
        "\n",
        "  <img src='https://student-datasets-bucket.s3.ap-south-1.amazonaws.com/images/project10_tuple_eg.png'>\n",
        " \n",
        "2. Create an empty tuple. Call it `records`. \n",
        "\n",
        "3. Create the `shuffler()` function which returns a string having jumbled letters of a word.\n",
        "\n",
        "3. Create the `count` variable to store the counts of the player's guess.\n",
        "\n",
        "4. Create a `for` to run the game.\n",
        "\n",
        "5. Calculate the time taken by a player (`tdelta`) to guess the words.\n",
        "\n",
        "6. Add the records for a player in the `records` tuple.\n",
        "\n",
        "7. Display the time taken by the player (`tdelta`) to guess the words.\n",
        "\n",
        "8. Print all the words, their parts of speech and their meanings in a tabular format.\n",
        "\n",
        "9. Print all the values of the `records` tuple.\n"
      ]
    },
    {
      "cell_type": "markdown",
      "metadata": {
        "id": "5JRlGIBRqCGl"
      },
      "source": [
        "---"
      ]
    },
    {
      "cell_type": "markdown",
      "metadata": {
        "id": "UCusTfW0tcxe"
      },
      "source": [
        "#### 1. Words & Records\n",
        "\n",
        "1. Create the `my_words` tuple which should contain the following 10 words, their parts of speech and their meanings as shown in the image below.\n",
        "\n",
        "  <img src='https://student-datasets-bucket.s3.ap-south-1.amazonaws.com/images/project10_tuple_eg.png'>\n",
        " \n",
        "2. Create an empty tuple to maintain the records of each player. The record should be a dictionary having, `'name', 'guess count'` and `'time taken'` as keys. Call it `records`.\n"
      ]
    },
    {
      "cell_type": "code",
      "metadata": {
        "id": "1IjV8AOYscqS"
      },
      "source": [
        "# Create 'my_words' & 'records' tuples.\n",
        "my_words = ((\"questionaire\", \"noun\", \"a list of questions survey\"),\n",
        "            (\"unconscious\", \"adjective\", \"not conscious or without awareness\"),\n",
        "            (\"Precocious\", \"adjective\", \"unusually mature, especially in mental development\"),\n",
        "            (\"Liaison\", \"noun\", \"a person who maintains a connection between people or groups\"),\n",
        "            (\"surveillance\", \"noun\", \"continuous observation of a person, place, or activity in order to gather information\"),\n",
        "            (\"malfeasance\", \"noun\", \"conduct by a public official that violates the public trust or is against the law\"),\n",
        "            (\"irascible\", \"adjective\", \"sudden and overwhelming or stunning\"),\n",
        "            (\"eudenomic\", \"adjective\", \"pertaining to conducive or happiness\"))\n",
        "records = ()"
      ],
      "execution_count": null,
      "outputs": []
    },
    {
      "cell_type": "markdown",
      "metadata": {
        "id": "tgcQQhMhsO8n"
      },
      "source": [
        "---"
      ]
    },
    {
      "cell_type": "markdown",
      "metadata": {
        "id": "lAIMkws5JqjO"
      },
      "source": [
        "#### 2. The `shuffler()` Function\n",
        "\n",
        "1. Create the `shuffler()` function which returns a string containing the jumbled letters of a word. E.g., The `shuffler()` function must return either `wims` or `mwsi` or `imsw` etc. for the word `swim`.\n",
        "\n",
        "2. Convert the word into a list of letters using the `list()` function. \n",
        "\n",
        "3. Use the `shuffle()` function of the `random` module to shuffle the letters from a word. It reorders the items in a Python list. E.g., if a list contains `['s', 'w', 'i', 'm']` items, then the `shuffle()` function will reorder the items as either `['w', 's', 'i', 'm']`, or `['s', 'w', 'm', 'i']` or `['i', 's', 'm', 'w']` etc.\n",
        "\n",
        "  **Note:** The `random.shuffle()` function does not return a new output. It applies the operation on the original value. Hence, the updated value will replace the original value contained in a variable.\n",
        "\n",
        "4. Use the `join()` function to convert a list of jumbled letters into a word."
      ]
    },
    {
      "cell_type": "code",
      "metadata": {
        "id": "kjgKfMT-Jp9q",
        "colab": {
          "base_uri": "https://localhost:8080/",
          "height": 35
        },
        "outputId": "b7176261-b34a-400e-ff54-0e230d9fad88"
      },
      "source": [
        "# Create the 'shuffler()' function.\n",
        "import random\n",
        "def shuffler(word):\n",
        "  new_list = list(word)\n",
        "  random.shuffle(new_list)\n",
        "  shuffled_word = \"\".join(new_list)\n",
        "  return shuffled_word\n",
        "shuffler(\"hi\")"
      ],
      "execution_count": null,
      "outputs": [
        {
          "output_type": "execute_result",
          "data": {
            "application/vnd.google.colaboratory.intrinsic+json": {
              "type": "string"
            },
            "text/plain": [
              "'ih'"
            ]
          },
          "metadata": {
            "tags": []
          },
          "execution_count": 3
        }
      ]
    },
    {
      "cell_type": "markdown",
      "metadata": {
        "id": "rZsDogK8LaOW"
      },
      "source": [
        "#### 3. The Remaining Components\n",
        "\n",
        "Before creating the `for` loop, print the title of the game. Here's the expected output:\n",
        "\n",
        "```\n",
        "-----------------------------GUESS A WORD GAME--------------------------------\n",
        "```\n",
        "\n",
        "The title is centre justified and the total length of the string is 120.\n",
        "\n",
        "Prompt a player to enter their name. You should also tell the player, to enter `s` as an input to stop the game midway. \n",
        "\n",
        "Then create a variable to store the counts of a player's guesses.\n",
        "\n",
        "Next, note down the start time of the game using the `time()` function of the `time` module. (Recall the performance section in `NumPy II` lesson).\n",
        "\n",
        "Then create a `for` loop which should do the following:\n",
        "\n",
        "1. Display the jumbled letters of a word in uppercase, the part of speech for the word in uppercase and the meaning of the word in uppercase. Here's an example of the expected output:\n",
        "\n",
        "   ```\n",
        "   Jumbled Letters: UQSTOAEREIINN \n",
        "   Part of speech: NOUN \n",
        "   Meaning: A LIST OF QUESTIONS SURVEY\n",
        "   ```\n",
        "\n",
        "2. Take input from the user and convert it into lowercase.\n",
        "\n",
        "3. If the player's input is `s`, terminate the loop.\n",
        "\n",
        "4. Else if the player's guess is correct, show the `CORRECT!` message and increase player's guess count by 1.\n",
        "\n",
        "5. Else, show the `WRONG!` message. Also, display the correct word. Here's an example of the expected output:\n",
        "\n",
        "   ```\n",
        "   Guess the word:\n",
        "   mealfeseance\n",
        "\n",
        "   WRONG! \n",
        "   Correct word is MALFEASANCE \n",
        "   ```\n",
        "\n",
        "Immediately at the end of the `for` loop, calculate the time difference between the start time of the `for` loop and the current time.\n",
        "\n",
        "Then add the player's name, guess count and the time taken by them to guess to the `records` tuple.\n",
        "\n",
        "Then display the time taken by the player to guess the words. Here's an example of the expected output.\n",
        "\n",
        "In the case the time taken is less than 60 seconds:\n",
        "\n",
        "```\n",
        "You took 3 seconds to guess 0 words correctly.\n",
        "```\n",
        "\n",
        "Otherwise:\n",
        "\n",
        "```\n",
        "You took 1 minute(s) and 47 seconds to guess 4 words correctly.\n",
        "```\n",
        "\n",
        "Then print all the words, their parts of speech and their meanings in a tabular format. Here's the expected output.\n",
        "\n",
        "<img src='https://student-datasets-bucket.s3.ap-south-1.amazonaws.com/images/project10_words_list.png'>\n",
        "\n",
        "In the above output, the `|` the contents for the second and third columns onwards are right justified. The index column has single-digit numbers with leading zeros. Also, the first letter in each string is capitalised.\n",
        "\n",
        "Finally, print the tuple containing the player records. Here's an example of the expected output:\n",
        "\n",
        "```\n",
        "LEADERBOARD\n",
        "------------------------------------------------------------------------------\n",
        "Name: rahul\n",
        "Guess Count: 3\n",
        "Time Taken: 46.01\n",
        "\n",
        "Name: bruce\n",
        "Guess Count: 5\n",
        "Time Taken: 48.84\n",
        "\n",
        "Name: robin\n",
        "Guess Count: 0\n",
        "Time Taken: 1.84\n",
        "\n",
        "Name: robin\n",
        "Guess Count: 0\n",
        "Time Taken: 2.07\n",
        "\n",
        "Name: robin\n",
        "Guess Count: 0\n",
        "Time Taken: 5.16\n",
        "\n",
        "Name: joker\n",
        "Guess Count: 0\n",
        "Time Taken: 2.51\n",
        "```\n"
      ]
    },
    {
      "cell_type": "code",
      "metadata": {
        "id": "UzS-57SXtei6",
        "colab": {
          "base_uri": "https://localhost:8080/"
        },
        "outputId": "aee170dc-4060-478b-8421-d0af470924a4"
      },
      "source": [
        "import random\n",
        "import time\n",
        "print(\"GUESS A WORD GAME\".center(120, '-'))\n",
        "player_name = input(\"Enter your name: \")\n",
        "guess_count = 0\n",
        "print(\"welcome to the game\",player_name,\", to stop the game press 's'\\nLet us begin...\")\n",
        "t1 = time.time()\n",
        "for item in my_words:\n",
        "  print(\"\\nJumbled Letters: {} \\nPart of Speech: {} \\nDefinition: {}\\n\".format(shuffler(\n",
        "      item[0]).upper(), \n",
        "      item[1].upper(), \n",
        "      item[2].upper()))\n",
        "  guess = input(f\"Guess the word: \\n\").lower()\n",
        "  if guess == 's':\n",
        "    print(\"Breaking Game\")\n",
        "    break\n",
        "  elif guess == item[0]:\n",
        "    print(\"\\nCorrect!\")\n",
        "    guess_count = guess_count + 1\n",
        "  else:\n",
        "    print(f\"\\nIncorrect.\\nThe correct word is {item[0].upper()}.\")\n",
        "tdelta = time.time() - t1\n",
        "records = records + ({\"Name\":player_name, \"Guess Count\":guess_count, \"Time Taken\":round(tdelta,2)},)\n",
        "if tdelta <= 59:\n",
        "  print(f\"\\nYou took {tdelta:.0f} seconds to guess {guess_count} words correctly.\")\n",
        "else:\n",
        "  print(f\"\\nYou took {tdelta // 60:.0f}:{tdelta % 60:.0f} minutes to guess {guess_count} words correctly.\")\n",
        "max_length = 0\n",
        "just_len = 130\n",
        "for tup in my_words:\n",
        "  if len(tup) > max_length:\n",
        "    max_length = len(tup)\n",
        "max_length = max_length + 2\n",
        "num = 1\n",
        "seperator = '|'.rjust(max_length, ' ')\n",
        "print(\"\\nComplete Word List.\\n{}\\n##| {}| {}| Meaning \\n{}\".format(\"-\" * just_len,\n",
        "                                                                   \"Word\".rjust(max_length, ' '),\n",
        "                                                                   \"Parts of Speech\".rjust(max_length, ' '),\n",
        "                                                                   \"-\" * just_len))\n",
        "for tup in my_words:\n",
        "  print(\"{:02}| {}| {}| {} \\n{}\".format((num),\n",
        "                                        tup[0].capitalize().rjust(max_length, ' '),\n",
        "                                        tup[1].capitalize().rjust(max_length, ' '),\n",
        "                                        tup[2].capitalize().rjust(max_length, ' '),\n",
        "                                        \"-\" * just_len))\n",
        "  num = num + 1\n",
        "print(f\"\\n\\nLEADERBOARD\\n{'-' * just_len}\")\n",
        "for record in records:\n",
        "  for key in record.keys():\n",
        "    print(f\"{key.title()}: {record[key]}\")\n",
        "  print()"
      ],
      "execution_count": null,
      "outputs": [
        {
          "output_type": "stream",
          "text": [
            "---------------------------------------------------GUESS A WORD GAME----------------------------------------------------\n",
            "Enter your name: pranav\n",
            "welcome to the game pranav , to stop the game press 's'\n",
            "Let us begin...\n",
            "\n",
            "Jumbled Letters: IAQITUESRNOE \n",
            "Part of Speech: NOUN \n",
            "Definition: A LIST OF QUESTIONS SURVEY\n",
            "\n",
            "Guess the word: \n",
            "no\n",
            "\n",
            "Incorrect.\n",
            "The correct word is QUESTIONAIRE.\n",
            "\n",
            "Jumbled Letters: UCUCOOSINSN \n",
            "Part of Speech: ADJECTIVE \n",
            "Definition: NOT CONSCIOUS OR WITHOUT AWARENESS\n",
            "\n",
            "Guess the word: \n",
            "no\n",
            "\n",
            "Incorrect.\n",
            "The correct word is UNCONSCIOUS.\n",
            "\n",
            "Jumbled Letters: SCOCUPERIO \n",
            "Part of Speech: ADJECTIVE \n",
            "Definition: UNUSUALLY MATURE, ESPECIALLY IN MENTAL DEVELOPMENT\n",
            "\n",
            "Guess the word: \n",
            "no\n",
            "\n",
            "Incorrect.\n",
            "The correct word is PRECOCIOUS.\n",
            "\n",
            "Jumbled Letters: OINSAIL \n",
            "Part of Speech: NOUN \n",
            "Definition: A PERSON WHO MAINTAINS A CONNECTION BETWEEN PEOPLE OR GROUPS\n",
            "\n",
            "Guess the word: \n",
            "no\n",
            "\n",
            "Incorrect.\n",
            "The correct word is LIAISON.\n",
            "\n",
            "Jumbled Letters: ASENIVLRELCU \n",
            "Part of Speech: NOUN \n",
            "Definition: CONTINUOUS OBSERVATION OF A PERSON, PLACE, OR ACTIVITY IN ORDER TO GATHER INFORMATION\n",
            "\n",
            "Guess the word: \n",
            "no\n",
            "\n",
            "Incorrect.\n",
            "The correct word is SURVEILLANCE.\n",
            "\n",
            "Jumbled Letters: NSMEAEALCAF \n",
            "Part of Speech: NOUN \n",
            "Definition: CONDUCT BY A PUBLIC OFFICIAL THAT VIOLATES THE PUBLIC TRUST OR IS AGAINST THE LAW\n",
            "\n",
            "Guess the word: \n",
            "no\n",
            "\n",
            "Incorrect.\n",
            "The correct word is MALFEASANCE.\n",
            "\n",
            "Jumbled Letters: SCIBIRLEA \n",
            "Part of Speech: ADJECTIVE \n",
            "Definition: SUDDEN AND OVERWHELMING OR STUNNING\n",
            "\n",
            "Guess the word: \n",
            "no\n",
            "\n",
            "Incorrect.\n",
            "The correct word is IRASCIBLE.\n",
            "\n",
            "Jumbled Letters: NEIDUMOEC \n",
            "Part of Speech: ADJECTIVE \n",
            "Definition: PERTAINING TO CONDUCIVE OR HAPPINESS\n",
            "\n",
            "Guess the word: \n",
            "no\n",
            "\n",
            "Incorrect.\n",
            "The correct word is EUDENOMIC.\n",
            "\n",
            "You took 9 seconds to guess 0 words correctly.\n",
            "\n",
            "Complete Word List.\n",
            "----------------------------------------------------------------------------------------------------------------------------------\n",
            "##|  Word| Parts of Speech| Meaning \n",
            "----------------------------------------------------------------------------------------------------------------------------------\n",
            "01| Questionaire|  Noun| A list of questions survey \n",
            "----------------------------------------------------------------------------------------------------------------------------------\n",
            "02| Unconscious| Adjective| Not conscious or without awareness \n",
            "----------------------------------------------------------------------------------------------------------------------------------\n",
            "03| Precocious| Adjective| Unusually mature, especially in mental development \n",
            "----------------------------------------------------------------------------------------------------------------------------------\n",
            "04| Liaison|  Noun| A person who maintains a connection between people or groups \n",
            "----------------------------------------------------------------------------------------------------------------------------------\n",
            "05| Surveillance|  Noun| Continuous observation of a person, place, or activity in order to gather information \n",
            "----------------------------------------------------------------------------------------------------------------------------------\n",
            "06| Malfeasance|  Noun| Conduct by a public official that violates the public trust or is against the law \n",
            "----------------------------------------------------------------------------------------------------------------------------------\n",
            "07| Irascible| Adjective| Sudden and overwhelming or stunning \n",
            "----------------------------------------------------------------------------------------------------------------------------------\n",
            "08| Eudenomic| Adjective| Pertaining to conducive or happiness \n",
            "----------------------------------------------------------------------------------------------------------------------------------\n",
            "\n",
            "\n",
            "LEADERBOARD\n",
            "----------------------------------------------------------------------------------------------------------------------------------\n",
            "Name: Pranav\n",
            "Guess Count: 4\n",
            "Time Taken: 48.3\n",
            "\n",
            "Name: Pranav\n",
            "Guess Count: 0\n",
            "Time Taken: 11.13\n",
            "\n",
            "Name: pranav\n",
            "Guess Count: 0\n",
            "Time Taken: 9.0\n",
            "\n"
          ],
          "name": "stdout"
        }
      ]
    }
  ]
}